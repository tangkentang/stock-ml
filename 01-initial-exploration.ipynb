{
 "cells": [
  {
   "cell_type": "code",
   "execution_count": null,
   "id": "b999f56d-59e0-4ff7-a7b8-920d34a64fed",
   "metadata": {},
   "outputs": [],
   "source": [
    "# Import library yang dibutuhkan\n",
    "import yfinance as yf\n",
    "import pandas as pd\n",
    "from sklearn.model_selection import train_test_split\n",
    "from sklearn.ensemble import RandomForestClassifier\n",
    "from sklearn.metrics import accuracy_score\n",
    "import matplotlib.pyplot as plt\n",
    "\n",
    "# 1. Ambil Data\n",
    "ticker = 'BBCA.JK'\n",
    "data = yf.download(ticker, start='2020-01-01', end='2025-06-24')\n",
    "\n",
    "print(\"Data Awal:\")\n",
    "print(data.head())\n",
    "\n",
    "# 2. Feature Engineering Sederhana\n",
    "# Kita buat fitur sederhana: perubahan harga dari 5 hari sebelumnya\n",
    "data['SMA_5'] = data['Close'].rolling(window=5).mean()\n",
    "data['Price_Change'] = data['Close'].diff()\n",
    "data = data.dropna()\n",
    "\n",
    "# 3. Buat Target Variable (Klasifikasi: Naik atau Turun)\n",
    "# Jika harga penutupan besok > hari ini, maka 1 (Naik), selain itu 0 (Turun)\n",
    "data['Target'] = (data['Close'].shift(-1) > data['Close']).astype(int)\n",
    "data = data.dropna() # Drop baris terakhir karena tidak punya target\n",
    "\n",
    "print(\"\\nData dengan Fitur dan Target:\")\n",
    "print(data.head())\n",
    "\n",
    "# 4. Siapkan Data untuk Model\n",
    "features = ['SMA_5', 'Price_Change', 'Volume']\n",
    "X = data[features]\n",
    "y = data['Target']\n",
    "\n",
    "# PENTING: Untuk data time-series, jangan diacak saat split!\n",
    "# Kita ambil 80% data awal untuk training, 20% akhir untuk testing.\n",
    "split_index = int(len(X) * 0.8)\n",
    "X_train, X_test = X[:split_index], X[split_index:]\n",
    "y_train, y_test = y[:split_index], y[split_index:]\n",
    "\n",
    "print(f\"\\nUkuran data training: {len(X_train)} baris\")\n",
    "print(f\"Ukuran data testing: {len(X_test)} baris\")\n",
    "\n",
    "# 5. Latih Model Sederhana\n",
    "model = RandomForestClassifier(n_estimators=100, random_state=42)\n",
    "model.fit(X_train, y_train)\n",
    "\n",
    "# 6. Evaluasi Model\n",
    "predictions = model.predict(X_test)\n",
    "accuracy = accuracy_score(y_test, predictions)\n",
    "\n",
    "print(f\"\\nAkurasi model di data test: {accuracy:.4f}\")\n",
    "\n",
    "# Akurasi sekitar 50% sangat umum, ini menunjukkan betapa sulitnya pasar diprediksi."
   ]
  }
 ],
 "metadata": {
  "kernelspec": {
   "display_name": "Python 3 (ipykernel)",
   "language": "python",
   "name": "python3"
  },
  "language_info": {
   "codemirror_mode": {
    "name": "ipython",
    "version": 3
   },
   "file_extension": ".py",
   "mimetype": "text/x-python",
   "name": "python",
   "nbconvert_exporter": "python",
   "pygments_lexer": "ipython3",
   "version": "3.13.3"
  }
 },
 "nbformat": 4,
 "nbformat_minor": 5
}
